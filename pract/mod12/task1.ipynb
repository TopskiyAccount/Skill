{
  "nbformat": 4,
  "nbformat_minor": 0,
  "metadata": {
    "colab": {
      "provenance": []
    },
    "kernelspec": {
      "name": "python3",
      "display_name": "Python 3"
    },
    "language_info": {
      "name": "python"
    }
  },
  "cells": [
    {
      "cell_type": "code",
      "execution_count": 18,
      "metadata": {
        "colab": {
          "base_uri": "https://localhost:8080/"
        },
        "id": "hHeqv8hmZ-tu",
        "outputId": "79167ca7-9725-4317-864b-bc43f81204b8"
      },
      "outputs": [
        {
          "output_type": "stream",
          "name": "stdout",
          "text": [
            "               actor1      actor2  movie_count\n",
            "0  John Paul Tremblay  Robb Wells           15\n"
          ]
        }
      ],
      "source": [
        "import sqlite3\n",
        "import pandas as pd\n",
        "\n",
        "conn_netflix = sqlite3.connect('netflix.sqlite')\n",
        "data = pd.read_sql(\"SELECT * FROM netflix_titles\", conn_netflix)\n",
        "\n",
        "table_actor_movie = pd.DataFrame(columns=['show_id', 'actor_id'])\n",
        "table_actors = pd.DataFrame(columns=['actor_id', 'actor_name'])\n",
        "\n",
        "actors_dict = {}\n",
        "actor_id = 0\n",
        "table_index = 0\n",
        "\n",
        "for index, row in data.iterrows():\n",
        "    cast = row['cast'].split(', ')\n",
        "    show_id = row['show_id']\n",
        "\n",
        "    for actor in cast:\n",
        "        if actor not in actors_dict:\n",
        "            actors_dict[actor] = actor_id\n",
        "            table_actors.loc[actor_id] = [actor_id, actor]\n",
        "            actor_id += 1\n",
        "\n",
        "        actor_idx = actors_dict[actor]\n",
        "        table_actor_movie.loc[table_index] = [show_id, actor_idx]\n",
        "        table_index += 1\n",
        "\n",
        "table_actors.to_sql('actors', conn_netflix, if_exists='replace', index=False)\n",
        "table_actor_movie.to_sql('actor_movie', conn_netflix, if_exists='replace', index=False)\n",
        "\n",
        "data.pop('cast')\n",
        "data.to_sql('movies', conn_netflix, if_exists='replace', index=False)\n",
        "\n",
        "df_test = pd.read_sql(\n",
        "'''\n",
        "SELECT a1.actor_name AS actor1, a2.actor_name AS actor2, COUNT(*) AS movie_count\n",
        "FROM actor_movie am1\n",
        "JOIN actor_movie am2 ON am1.show_id = am2.show_id\n",
        "JOIN actors a1 ON am1.actor_id = a1.actor_id\n",
        "JOIN actors a2 ON am2.actor_id = a2.actor_id\n",
        "WHERE am1.actor_id < am2.actor_id\n",
        "GROUP BY actor1, actor2\n",
        "ORDER BY movie_count DESC\n",
        "LIMIT 1;\n",
        "''', conn_netflix)\n",
        "print(df_test)"
      ]
    }
  ]
}
