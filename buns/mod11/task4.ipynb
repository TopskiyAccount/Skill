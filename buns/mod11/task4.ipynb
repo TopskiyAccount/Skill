import numpy as np
import scipy.stats as sps

# Функция, решающая задачу с помощью NumPy
def np_sec_av(X):
    cumulative_sum = np.cumsum(X, axis=1)
    indices = np.arange(1, X.shape[1] + 1)
    result = cumulative_sum / indices[:, None]
    return result

# Задаем некоторую последовательность и проверяем на функции
A = sps.uniform.rvs(size=(5, 10))  # Пример: матрица размера 5x10 с элементами из равномерного распределения
print("Исходная матрица:")
print(A)

%time S2 = np_sec_av(A)
print("Результат:")
print(S2)
