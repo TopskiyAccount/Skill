import numpy as np

def np_transformation(X, a=1):
    # Создаем копию массива X
    result = X.copy()
    
    # Заменяем элементы с нечетными индексами на число a
    result[1::2] = a
    
    # Возводим в куб элементы с четными индексами
    result[::2] **= 3
    
    # Объединяем массив X с преобразованным X в обратном порядке
    result = np.concatenate([X, result[::-1]])
    
    return result

X = np.array([i for i in range(1, 10, 2)])
%time S2 = np_transformation(X, 5)
print("Результат:")
print(S2)
